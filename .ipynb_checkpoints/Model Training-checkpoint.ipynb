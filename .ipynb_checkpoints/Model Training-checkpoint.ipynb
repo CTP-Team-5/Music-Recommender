{
 "cells": [
  {
   "cell_type": "code",
   "execution_count": 1,
   "metadata": {},
   "outputs": [],
   "source": [
    "# Import necessary libraries and modules\n",
    "import pandas as pd  # for data manipulation\n",
    "import nltk  # Natural Language Toolkit for text processing\n",
    "from nltk.stem.porter import PorterStemmer  # for stemming words\n",
    "from sklearn.feature_extraction.text import TfidfVectorizer  # to convert text data into TF-IDF feature vectors\n",
    "from sklearn.metrics.pairwise import cosine_similarity  # to compute similarity between vectors\n",
    "import pickle  # for saving and loading serialized models\n",
    "import csv  # for reading and writing CSV files\n",
    "from sklearn.model_selection import train_test_split  # to split data into training and testing sets"
   ]
  },
  {
   "cell_type": "code",
   "execution_count": 2,
   "metadata": {},
   "outputs": [
    {
     "data": {
      "text/html": [
       "<div>\n",
       "<style scoped>\n",
       "    .dataframe tbody tr th:only-of-type {\n",
       "        vertical-align: middle;\n",
       "    }\n",
       "\n",
       "    .dataframe tbody tr th {\n",
       "        vertical-align: top;\n",
       "    }\n",
       "\n",
       "    .dataframe thead th {\n",
       "        text-align: right;\n",
       "    }\n",
       "</style>\n",
       "<table border=\"1\" class=\"dataframe\">\n",
       "  <thead>\n",
       "    <tr style=\"text-align: right;\">\n",
       "      <th></th>\n",
       "      <th>artist</th>\n",
       "      <th>song</th>\n",
       "      <th>link</th>\n",
       "      <th>text</th>\n",
       "    </tr>\n",
       "  </thead>\n",
       "  <tbody>\n",
       "    <tr>\n",
       "      <th>0</th>\n",
       "      <td>ABBA</td>\n",
       "      <td>Ahe's My Kind Of Girl</td>\n",
       "      <td>/a/abba/ahes+my+kind+of+girl_20598417.html</td>\n",
       "      <td>Look at her face, it's a wonderful face  \\r\\nA...</td>\n",
       "    </tr>\n",
       "    <tr>\n",
       "      <th>1</th>\n",
       "      <td>ABBA</td>\n",
       "      <td>Andante, Andante</td>\n",
       "      <td>/a/abba/andante+andante_20002708.html</td>\n",
       "      <td>Take it easy with me, please  \\r\\nTouch me gen...</td>\n",
       "    </tr>\n",
       "    <tr>\n",
       "      <th>2</th>\n",
       "      <td>ABBA</td>\n",
       "      <td>As Good As New</td>\n",
       "      <td>/a/abba/as+good+as+new_20003033.html</td>\n",
       "      <td>I'll never know why I had to go  \\r\\nWhy I had...</td>\n",
       "    </tr>\n",
       "    <tr>\n",
       "      <th>3</th>\n",
       "      <td>ABBA</td>\n",
       "      <td>Bang</td>\n",
       "      <td>/a/abba/bang_20598415.html</td>\n",
       "      <td>Making somebody happy is a question of give an...</td>\n",
       "    </tr>\n",
       "    <tr>\n",
       "      <th>4</th>\n",
       "      <td>ABBA</td>\n",
       "      <td>Bang-A-Boomerang</td>\n",
       "      <td>/a/abba/bang+a+boomerang_20002668.html</td>\n",
       "      <td>Making somebody happy is a question of give an...</td>\n",
       "    </tr>\n",
       "  </tbody>\n",
       "</table>\n",
       "</div>"
      ],
      "text/plain": [
       "  artist                   song                                        link  \\\n",
       "0   ABBA  Ahe's My Kind Of Girl  /a/abba/ahes+my+kind+of+girl_20598417.html   \n",
       "1   ABBA       Andante, Andante       /a/abba/andante+andante_20002708.html   \n",
       "2   ABBA         As Good As New        /a/abba/as+good+as+new_20003033.html   \n",
       "3   ABBA                   Bang                  /a/abba/bang_20598415.html   \n",
       "4   ABBA       Bang-A-Boomerang      /a/abba/bang+a+boomerang_20002668.html   \n",
       "\n",
       "                                                text  \n",
       "0  Look at her face, it's a wonderful face  \\r\\nA...  \n",
       "1  Take it easy with me, please  \\r\\nTouch me gen...  \n",
       "2  I'll never know why I had to go  \\r\\nWhy I had...  \n",
       "3  Making somebody happy is a question of give an...  \n",
       "4  Making somebody happy is a question of give an...  "
      ]
     },
     "execution_count": 2,
     "metadata": {},
     "output_type": "execute_result"
    }
   ],
   "source": [
    "# Open the first CSV file for reading\n",
    "with open('split_csv/output_file1.csv', 'r', newline='') as file1:\n",
    "    reader1 = csv.reader(file1)\n",
    "    data1 = list(reader1)\n",
    "\n",
    "# Open the second CSV file for reading\n",
    "with open('split_csv/output_file2.csv', 'r', newline='') as file2:\n",
    "    reader2 = csv.reader(file2)\n",
    "    data2 = list(reader2)\n",
    "\n",
    "# Combine the data from both files\n",
    "combined_data = data1 + data2\n",
    "\n",
    "# Create a new CSV file to write the combined data\n",
    "with open('merged_data.csv', 'w', newline='') as output_file:\n",
    "    writer = csv.writer(output_file)\n",
    "    writer.writerows(combined_data)\n",
    "df = pd.read_csv('merged_data.csv')\n",
    "df.head(5)"
   ]
  },
  {
   "cell_type": "code",
   "execution_count": 3,
   "metadata": {},
   "outputs": [
    {
     "data": {
      "text/plain": [
       "artist    0\n",
       "song      0\n",
       "link      0\n",
       "text      0\n",
       "dtype: int64"
      ]
     },
     "execution_count": 3,
     "metadata": {},
     "output_type": "execute_result"
    }
   ],
   "source": [
    "# checks for nulls\n",
    "df.isnull().sum()"
   ]
  },
  {
   "cell_type": "code",
   "execution_count": 4,
   "metadata": {},
   "outputs": [
    {
     "data": {
      "text/html": [
       "<div>\n",
       "<style scoped>\n",
       "    .dataframe tbody tr th:only-of-type {\n",
       "        vertical-align: middle;\n",
       "    }\n",
       "\n",
       "    .dataframe tbody tr th {\n",
       "        vertical-align: top;\n",
       "    }\n",
       "\n",
       "    .dataframe thead th {\n",
       "        text-align: right;\n",
       "    }\n",
       "</style>\n",
       "<table border=\"1\" class=\"dataframe\">\n",
       "  <thead>\n",
       "    <tr style=\"text-align: right;\">\n",
       "      <th></th>\n",
       "      <th>artist</th>\n",
       "      <th>song</th>\n",
       "      <th>text</th>\n",
       "    </tr>\n",
       "  </thead>\n",
       "  <tbody>\n",
       "    <tr>\n",
       "      <th>0</th>\n",
       "      <td>Culture Club</td>\n",
       "      <td>White Boy</td>\n",
       "      <td>Black boys employ Selassie  \\r\\nWe kiss, we de...</td>\n",
       "    </tr>\n",
       "    <tr>\n",
       "      <th>1</th>\n",
       "      <td>Les Miserables</td>\n",
       "      <td>Do You Hear The People Sing</td>\n",
       "      <td>Enjolras  \\r\\nDo you hear the people sing?  \\r...</td>\n",
       "    </tr>\n",
       "    <tr>\n",
       "      <th>2</th>\n",
       "      <td>Iggy Pop</td>\n",
       "      <td>To Belong</td>\n",
       "      <td>A bird is sitting on the pavement  \\r\\nSomeone...</td>\n",
       "    </tr>\n",
       "    <tr>\n",
       "      <th>3</th>\n",
       "      <td>Britney Spears</td>\n",
       "      <td>Anticipating</td>\n",
       "      <td>Top down on the strip, looking in the mirror  ...</td>\n",
       "    </tr>\n",
       "    <tr>\n",
       "      <th>4</th>\n",
       "      <td>The White Stripes</td>\n",
       "      <td>Apple Blossom</td>\n",
       "      <td>Hey little apple blossom  \\r\\nWhat seems to be...</td>\n",
       "    </tr>\n",
       "  </tbody>\n",
       "</table>\n",
       "</div>"
      ],
      "text/plain": [
       "              artist                         song  \\\n",
       "0       Culture Club                    White Boy   \n",
       "1     Les Miserables  Do You Hear The People Sing   \n",
       "2           Iggy Pop                    To Belong   \n",
       "3     Britney Spears                 Anticipating   \n",
       "4  The White Stripes                Apple Blossom   \n",
       "\n",
       "                                                text  \n",
       "0  Black boys employ Selassie  \\r\\nWe kiss, we de...  \n",
       "1  Enjolras  \\r\\nDo you hear the people sing?  \\r...  \n",
       "2  A bird is sitting on the pavement  \\r\\nSomeone...  \n",
       "3  Top down on the strip, looking in the mirror  ...  \n",
       "4  Hey little apple blossom  \\r\\nWhat seems to be...  "
      ]
     },
     "execution_count": 4,
     "metadata": {},
     "output_type": "execute_result"
    }
   ],
   "source": [
    "# Randomly sample 5000 rows, remove 'link' column, and reset the index\n",
    "df = df.sample(5000).drop('link', axis=1).reset_index(drop=True)\n",
    "df.head(5)"
   ]
  },
  {
   "cell_type": "code",
   "execution_count": 5,
   "metadata": {},
   "outputs": [],
   "source": [
    "# Preprocess the 'text' column in the DataFrame\n",
    "df['text'] = df['text'].str.lower().replace(r'^a-zA-Z0-9','').replace(r'\\\\n','',regex=True)  # Convert text to lowercase, remove special characters and newlines"
   ]
  },
  {
   "cell_type": "code",
   "execution_count": 6,
   "metadata": {},
   "outputs": [
    {
     "data": {
      "text/html": [
       "<div>\n",
       "<style scoped>\n",
       "    .dataframe tbody tr th:only-of-type {\n",
       "        vertical-align: middle;\n",
       "    }\n",
       "\n",
       "    .dataframe tbody tr th {\n",
       "        vertical-align: top;\n",
       "    }\n",
       "\n",
       "    .dataframe thead th {\n",
       "        text-align: right;\n",
       "    }\n",
       "</style>\n",
       "<table border=\"1\" class=\"dataframe\">\n",
       "  <thead>\n",
       "    <tr style=\"text-align: right;\">\n",
       "      <th></th>\n",
       "      <th>artist</th>\n",
       "      <th>song</th>\n",
       "      <th>text</th>\n",
       "    </tr>\n",
       "  </thead>\n",
       "  <tbody>\n",
       "    <tr>\n",
       "      <th>0</th>\n",
       "      <td>Culture Club</td>\n",
       "      <td>White Boy</td>\n",
       "      <td>black boys employ selassie  \\r\\nwe kiss, we de...</td>\n",
       "    </tr>\n",
       "    <tr>\n",
       "      <th>1</th>\n",
       "      <td>Les Miserables</td>\n",
       "      <td>Do You Hear The People Sing</td>\n",
       "      <td>enjolras  \\r\\ndo you hear the people sing?  \\r...</td>\n",
       "    </tr>\n",
       "    <tr>\n",
       "      <th>2</th>\n",
       "      <td>Iggy Pop</td>\n",
       "      <td>To Belong</td>\n",
       "      <td>a bird is sitting on the pavement  \\r\\nsomeone...</td>\n",
       "    </tr>\n",
       "    <tr>\n",
       "      <th>3</th>\n",
       "      <td>Britney Spears</td>\n",
       "      <td>Anticipating</td>\n",
       "      <td>top down on the strip, looking in the mirror  ...</td>\n",
       "    </tr>\n",
       "    <tr>\n",
       "      <th>4</th>\n",
       "      <td>The White Stripes</td>\n",
       "      <td>Apple Blossom</td>\n",
       "      <td>hey little apple blossom  \\r\\nwhat seems to be...</td>\n",
       "    </tr>\n",
       "  </tbody>\n",
       "</table>\n",
       "</div>"
      ],
      "text/plain": [
       "              artist                         song  \\\n",
       "0       Culture Club                    White Boy   \n",
       "1     Les Miserables  Do You Hear The People Sing   \n",
       "2           Iggy Pop                    To Belong   \n",
       "3     Britney Spears                 Anticipating   \n",
       "4  The White Stripes                Apple Blossom   \n",
       "\n",
       "                                                text  \n",
       "0  black boys employ selassie  \\r\\nwe kiss, we de...  \n",
       "1  enjolras  \\r\\ndo you hear the people sing?  \\r...  \n",
       "2  a bird is sitting on the pavement  \\r\\nsomeone...  \n",
       "3  top down on the strip, looking in the mirror  ...  \n",
       "4  hey little apple blossom  \\r\\nwhat seems to be...  "
      ]
     },
     "execution_count": 6,
     "metadata": {},
     "output_type": "execute_result"
    }
   ],
   "source": [
    "df.head(5)"
   ]
  },
  {
   "cell_type": "code",
   "execution_count": 7,
   "metadata": {},
   "outputs": [],
   "source": [
    "# Initialize the Porter Stemmer for text processing\n",
    "stemmer = PorterStemmer()"
   ]
  },
  {
   "cell_type": "code",
   "execution_count": 8,
   "metadata": {},
   "outputs": [],
   "source": [
    "# Tokenizes & stems the input text & returns the processed text string with each word tokenized and stemmed\n",
    "def token(x):\n",
    "    token = nltk.word_tokenize(x) # Tokenize the input text into individual words\n",
    "    y = [stemmer.stem(i) for i in token] # Stem each word in the tokenized list using the previously initialized PorterStemmer\n",
    "    return \" \".join(y) # Join the stemmed words back into a single string and return it"
   ]
  },
  {
   "cell_type": "code",
   "execution_count": 9,
   "metadata": {},
   "outputs": [],
   "source": [
    "# Apply the tokenization and stemming function to the 'text' column of the DataFrame\n",
    "df['text'] = df['text'].apply(lambda x: token(x))"
   ]
  },
  {
   "cell_type": "code",
   "execution_count": 10,
   "metadata": {},
   "outputs": [],
   "source": [
    "# Initialize the TfidfVectorizer for converting text data into TF-IDF vectors\n",
    "tfid = TfidfVectorizer(analyzer='word', stop_words='english')"
   ]
  },
  {
   "cell_type": "code",
   "execution_count": 11,
   "metadata": {},
   "outputs": [],
   "source": [
    "# Generate the TF-IDF matrix for the text data\n",
    "matrix = tfid.fit_transform(df['text'])"
   ]
  },
  {
   "cell_type": "code",
   "execution_count": 12,
   "metadata": {},
   "outputs": [],
   "source": [
    "# Calculate the cosine similarity matrix from the TF-IDF matrix\n",
    "similarity = cosine_similarity(matrix)"
   ]
  },
  {
   "cell_type": "code",
   "execution_count": 13,
   "metadata": {},
   "outputs": [
    {
     "data": {
      "text/plain": [
       "2"
      ]
     },
     "execution_count": 13,
     "metadata": {},
     "output_type": "execute_result"
    }
   ],
   "source": [
    "df[df['song']=='To Belong'].index[0]"
   ]
  },
  {
   "cell_type": "code",
   "execution_count": 14,
   "metadata": {},
   "outputs": [],
   "source": [
    "# Recommends similar songs based on the input song\n",
    "def recommender(song):\n",
    "    idx = df[df['song']==song].index[0] # Find the index of the given song in the DataFrame\n",
    "    distance = sorted(list(enumerate(similarity[idx])), reverse=True, key=lambda x:x[1]) # Calculate similarity scores for the given song with all other songs\n",
    "    song= [] # Initialize an empty list to store recommended songs\n",
    "\n",
    "    # Loop over the top 4 similar songs (excluding the given song itself)\n",
    "    for song_id in distance[1:5]: \n",
    "        song.append(df.iloc[song_id[0]].song) # Append the song title to the recommended songs list\n",
    "    return song"
   ]
  },
  {
   "cell_type": "code",
   "execution_count": 15,
   "metadata": {},
   "outputs": [
    {
     "data": {
      "text/plain": [
       "['So Slow', \"I Can't Let Go\", 'I Want You', 'Baby']"
      ]
     },
     "execution_count": 15,
     "metadata": {},
     "output_type": "execute_result"
    }
   ],
   "source": [
    "recommender(\"Anticipating\")"
   ]
  },
  {
   "cell_type": "code",
   "execution_count": 16,
   "metadata": {},
   "outputs": [],
   "source": [
    "pickle.dump(similarity, open('similarity.pkl', 'wb'))\n",
    "pickle.dump(df, open('df.pkl', 'wb'))"
   ]
  },
  {
   "cell_type": "code",
   "execution_count": null,
   "metadata": {},
   "outputs": [],
   "source": []
  }
 ],
 "metadata": {
  "kernelspec": {
   "display_name": "Python 3 (ipykernel)",
   "language": "python",
   "name": "python3"
  },
  "language_info": {
   "codemirror_mode": {
    "name": "ipython",
    "version": 3
   },
   "file_extension": ".py",
   "mimetype": "text/x-python",
   "name": "python",
   "nbconvert_exporter": "python",
   "pygments_lexer": "ipython3",
   "version": "3.9.6"
  }
 },
 "nbformat": 4,
 "nbformat_minor": 4
}
